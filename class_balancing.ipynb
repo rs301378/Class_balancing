{
 "cells": [
  {
   "cell_type": "markdown",
   "metadata": {},
   "source": [
    "# Class Balancing using SMOTE(Synthetic Minority Oversampling Technique)"
   ]
  },
  {
   "cell_type": "code",
   "execution_count": 13,
   "metadata": {},
   "outputs": [],
   "source": [
    "# import libraries\n",
    "import numpy as np\n",
    "import pandas as pd"
   ]
  },
  {
   "cell_type": "code",
   "execution_count": 62,
   "metadata": {},
   "outputs": [
    {
     "name": "stdout",
     "output_type": "stream",
     "text": [
      "      F1  F2  F3  F4  F5  F6  F7  F8  F9  F10  ...    F136   F137    F138  \\\n",
      "0      0   0   0   0   0   0   0   0   0    0  ...  3.7730  2.704  119.85   \n",
      "1      0   0   0   0   0   0   0   0   0    0  ...  3.5674  2.605   94.17   \n",
      "2      0   0   0   0   0   0   0   0   0    0  ...  3.9847  2.780   77.76   \n",
      "3      0   0   0   0   0   0   0   0   0    0  ...  3.6643  5.239  119.36   \n",
      "4      0   0   0   0   0   0   0   0   0    0  ...  3.6613  4.024   76.07   \n",
      "...   ..  ..  ..  ..  ..  ..  ..  ..  ..  ...  ...     ...    ...     ...   \n",
      "3418   0   0   0   0   1   0   0   0   0    0  ...  2.7346  2.197   74.60   \n",
      "3419   0   0   0   1   0   0   0   0   0    0  ...  2.8992  1.201   74.60   \n",
      "3420   0   0   0   1   0   0   1   0   0    1  ...  2.7752 -1.260  155.68   \n",
      "3421   0   0   0   0   0   0   0   0   0    0  ...  3.3033  0.592   94.83   \n",
      "3422   0   0   0   0   0   0   0   0   0    0  ...  3.3446  1.786   93.06   \n",
      "\n",
      "      F139  F140  F141     F142  F143  F144  Outcome  \n",
      "0        4     6     0  424.569     0     0        1  \n",
      "1       11     8     1  484.593     0     1        1  \n",
      "2        7     5     1  333.384     0     0        1  \n",
      "3        9     8     2  562.659     0     1        1  \n",
      "4        6     6     1  409.482     0     1        1  \n",
      "...    ...   ...   ...      ...   ...   ...      ...  \n",
      "3418     6     4     2  202.250     0     1        0  \n",
      "3419     2     4     2  224.256     0     2        0  \n",
      "3420    10    10     4  346.336     0     1        0  \n",
      "3421     2     5     3  360.450     0     2        0  \n",
      "3422     2     6     2  452.494     0     2        0  \n",
      "\n",
      "[3423 rows x 145 columns]\n",
      "Class 0: 3375\n",
      "Class 1: 48\n",
      "Proportion: 70.31 : 1\n"
     ]
    },
    {
     "data": {
      "text/plain": [
       "<matplotlib.axes._subplots.AxesSubplot at 0x1c389495c48>"
      ]
     },
     "execution_count": 62,
     "metadata": {},
     "output_type": "execute_result"
    },
    {
     "data": {
      "image/png": "[encoded data removed]",
      "text/plain": [
       "<Figure size 432x288 with 1 Axes>"
      ]
     },
     "metadata": {
      "needs_background": "light"
     },
     "output_type": "display_data"
    }
   ],
   "source": [
    "# load the data\n",
    "data = pd.read_csv('AID362red_train.csv')\n",
    "# convert strings into boolean values\n",
    "class_feature = {'Active': 1,'Inactive': 0}\n",
    "data.Outcome = [class_feature[item] for item in data.Outcome] \n",
    "print(data)\n",
    "target_count = data.Outcome.value_counts()\n",
    "print('Class 0:', target_count[0])\n",
    "print('Class 1:', target_count[1])\n",
    "print('Proportion:', round(target_count[0] / target_count[1], 2), ': 1')\n",
    "\n",
    "target_count.plot(kind='bar', title='Count (target)') # plot the graph"
   ]
  },
  {
   "cell_type": "markdown",
   "metadata": {},
   "source": [
    "# Model\n",
    "Check the accuracy of imbalanced dataset"
   ]
  },
  {
   "cell_type": "code",
   "execution_count": 64,
   "metadata": {},
   "outputs": [
    {
     "name": "stdout",
     "output_type": "stream",
     "text": [
      "Accuracy: 100.00%\n"
     ]
    }
   ],
   "source": [
    "from xgboost import XGBClassifier\n",
    "from sklearn.model_selection import train_test_split\n",
    "from sklearn.metrics import accuracy_score\n",
    "\n",
    "# Remove 'id' and 'target' columns\n",
    "labels = data.columns[2:]\n",
    "\n",
    "X = data[labels]\n",
    "y = data['Outcome']\n",
    "\n",
    "X_train, X_test, y_train, y_test = train_test_split(X, y, test_size=0.2, random_state=1)\n",
    "\n",
    "model = XGBClassifier()\n",
    "model.fit(X_train, y_train)\n",
    "y_pred = model.predict(X_test)\n",
    "\n",
    "accuracy = accuracy_score(y_test, y_pred)\n",
    "print(\"Accuracy: %.2f%%\" % (accuracy * 100.0))"
   ]
  },
  {
   "cell_type": "code",
   "execution_count": 65,
   "metadata": {},
   "outputs": [
    {
     "name": "stdout",
     "output_type": "stream",
     "text": [
      "Confusion matrix:\n",
      " [[672   0]\n",
      " [  0  13]]\n"
     ]
    },
    {
     "data": {
      "image/png": "[encoded data removed]",
      "text/plain": [
       "<Figure size 432x288 with 2 Axes>"
      ]
     },
     "metadata": {
      "needs_background": "light"
     },
     "output_type": "display_data"
    }
   ],
   "source": [
    "from sklearn.metrics import confusion_matrix\n",
    "from matplotlib import pyplot as plt\n",
    "\n",
    "conf_mat = confusion_matrix(y_true=y_test, y_pred=y_pred)\n",
    "print('Confusion matrix:\\n', conf_mat)\n",
    "\n",
    "labels = ['Class 0', 'Class 1']\n",
    "fig = plt.figure()\n",
    "ax = fig.add_subplot(111)\n",
    "cax = ax.matshow(conf_mat, cmap=plt.cm.Blues)\n",
    "fig.colorbar(cax)\n",
    "ax.set_xticklabels([''] + labels)\n",
    "ax.set_yticklabels([''] + labels)\n",
    "plt.xlabel('Predicted')\n",
    "plt.ylabel('Expected')\n",
    "plt.show()"
   ]
  },
  {
   "cell_type": "code",
   "execution_count": 73,
   "metadata": {},
   "outputs": [
    {
     "name": "stdout",
     "output_type": "stream",
     "text": [
      "Random over-sampling:\n",
      "1    3375\n",
      "0    3375\n",
      "Name: Outcome, dtype: int64\n"
     ]
    },
    {
     "data": {
      "text/plain": [
       "<matplotlib.axes._subplots.AxesSubplot at 0x1c38017ff48>"
      ]
     },
     "execution_count": 73,
     "metadata": {},
     "output_type": "execute_result"
    },
    {
     "data": {
      "image/png": "[encoded data removed]",
      "text/plain": [
       "<Figure size 432x288 with 1 Axes>"
      ]
     },
     "metadata": {
      "needs_background": "light"
     },
     "output_type": "display_data"
    }
   ],
   "source": [
    "# Class count\n",
    "count_class_0, count_class_1 = data.Outcome.value_counts()\n",
    "\n",
    "# Divide by class\n",
    "df_class_0 = data[data['Outcome'] == 0]\n",
    "df_class_1 = data[data['Outcome'] == 1]\n",
    "\n",
    "df_class_1_over = df_class_1.sample(count_class_0, replace=True)\n",
    "df_test_over = pd.concat([df_class_0, df_class_1_over], axis=0)\n",
    "\n",
    "print('Random over-sampling:')\n",
    "print(df_test_over.Outcome.value_counts())\n",
    "\n",
    "df_test_over.Outcome.value_counts().plot(kind='bar', title='Count (Outcome)')"
   ]
  }
 ],
 "metadata": {
  "kernelspec": {
   "display_name": "Python 3",
   "language": "python",
   "name": "python3"
  },
  "language_info": {
   "codemirror_mode": {
    "name": "ipython",
    "version": 3
   },
   "file_extension": ".py",
   "mimetype": "text/x-python",
   "name": "python",
   "nbconvert_exporter": "python",
   "pygments_lexer": "ipython3",
   "version": "3.7.5"
  }
 },
 "nbformat": 4,
 "nbformat_minor": 2
}
